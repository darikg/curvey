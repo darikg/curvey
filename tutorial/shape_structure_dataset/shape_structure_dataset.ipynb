{
 "cells": [
  {
   "cell_type": "code",
   "execution_count": null,
   "id": "0",
   "metadata": {},
   "outputs": [],
   "source": [
    "%load_ext autoreload\n",
    "%autoreload 2"
   ]
  },
  {
   "cell_type": "code",
   "execution_count": null,
   "id": "1",
   "metadata": {},
   "outputs": [],
   "source": [
    "from cemetery.util.curvey.shape_structure_dataset import ShapeStructureDataset\n",
    "from numpy import ceil, sqrt\n",
    "from numpy.linalg import norm\n",
    "from matplotlib import pyplot as plt\n",
    "# dataset = ShapeStructureDataset(r\"C:\\Users\\dg\\OneDrive\\Desktop\\ShapesJSON.zip\")\n",
    "dataset = ShapeStructureDataset(r\"C:\\Users\\dgamble4\\Downloads\\ShapesJSON.zip\")"
   ]
  },
  {
   "cell_type": "code",
   "execution_count": null,
   "id": "2",
   "metadata": {},
   "outputs": [],
   "source": [
    "classes = dataset.classes\n",
    "n = len(classes)\n",
    "n_cols = 10\n",
    "n_rows = int(ceil(n / n_cols))\n",
    "fig, ax = plt.subplots(figsize=(12, 1.2 * n_rows))\n",
    "\n",
    "for i, class_name in enumerate(classes):\n",
    "    c = dataset.load_curve(class_name, 0).translate('center')\n",
    "    max_r = norm(c.pts, axis=1).max()\n",
    "    c = c.scale(0.35 / max_r)\n",
    "    y = i // n_cols  # This is correct\n",
    "    x = i - y * n_cols\n",
    "\n",
    "    c.translate([x, -y]).plot(color='black')\n",
    "    plt.text(x, 0.4 -y, class_name, horizontalalignment='center')\n",
    "\n",
    "ax.axis('equal')\n",
    "ax.axis('off')\n",
    "ax.set_ylim((-(n_rows - 0.5), 0.75));"
   ]
  }
 ],
 "metadata": {
  "kernelspec": {
   "display_name": "Python 3 (ipykernel)",
   "language": "python",
   "name": "python3"
  },
  "language_info": {
   "codemirror_mode": {
    "name": "ipython",
    "version": 3
   },
   "file_extension": ".py",
   "mimetype": "text/x-python",
   "name": "python",
   "nbconvert_exporter": "python",
   "pygments_lexer": "ipython3",
   "version": "3.12.2"
  }
 },
 "nbformat": 4,
 "nbformat_minor": 5
}
